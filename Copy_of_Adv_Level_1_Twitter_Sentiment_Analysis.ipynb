{
  "nbformat": 4,
  "nbformat_minor": 0,
  "metadata": {
    "colab": {
      "provenance": [],
      "include_colab_link": true
    },
    "kernelspec": {
      "name": "python3",
      "display_name": "Python 3"
    },
    "language_info": {
      "name": "python"
    },
    "widgets": {
      "application/vnd.jupyter.widget-state+json": {
        "1b1a08f62228434e974a47ca4bbaeee8": {
          "model_module": "@jupyter-widgets/controls",
          "model_name": "HBoxModel",
          "model_module_version": "1.5.0",
          "state": {
            "_dom_classes": [],
            "_model_module": "@jupyter-widgets/controls",
            "_model_module_version": "1.5.0",
            "_model_name": "HBoxModel",
            "_view_count": null,
            "_view_module": "@jupyter-widgets/controls",
            "_view_module_version": "1.5.0",
            "_view_name": "HBoxView",
            "box_style": "",
            "children": [
              "IPY_MODEL_a42e062ce8e04958bbc96cacb564f522",
              "IPY_MODEL_31d04c7c5ad94b2283806a72bf2cfed6",
              "IPY_MODEL_06194459071a4b58b7de69925b11f803"
            ],
            "layout": "IPY_MODEL_8846f193783546358e2a89f75414f733"
          }
        },
        "a42e062ce8e04958bbc96cacb564f522": {
          "model_module": "@jupyter-widgets/controls",
          "model_name": "HTMLModel",
          "model_module_version": "1.5.0",
          "state": {
            "_dom_classes": [],
            "_model_module": "@jupyter-widgets/controls",
            "_model_module_version": "1.5.0",
            "_model_name": "HTMLModel",
            "_view_count": null,
            "_view_module": "@jupyter-widgets/controls",
            "_view_module_version": "1.5.0",
            "_view_name": "HTMLView",
            "description": "",
            "description_tooltip": null,
            "layout": "IPY_MODEL_aef255e631f241998ebe589655c79056",
            "placeholder": "​",
            "style": "IPY_MODEL_a34ca07e901447c99ba6d73147ad9087",
            "value": "Downloading: 100%"
          }
        },
        "31d04c7c5ad94b2283806a72bf2cfed6": {
          "model_module": "@jupyter-widgets/controls",
          "model_name": "FloatProgressModel",
          "model_module_version": "1.5.0",
          "state": {
            "_dom_classes": [],
            "_model_module": "@jupyter-widgets/controls",
            "_model_module_version": "1.5.0",
            "_model_name": "FloatProgressModel",
            "_view_count": null,
            "_view_module": "@jupyter-widgets/controls",
            "_view_module_version": "1.5.0",
            "_view_name": "ProgressView",
            "bar_style": "success",
            "description": "",
            "description_tooltip": null,
            "layout": "IPY_MODEL_15e29ce639d149e0b68dfc42c69e05ea",
            "max": 1447,
            "min": 0,
            "orientation": "horizontal",
            "style": "IPY_MODEL_a129dde6db234d1d90e94ae780b1b342",
            "value": 1447
          }
        },
        "06194459071a4b58b7de69925b11f803": {
          "model_module": "@jupyter-widgets/controls",
          "model_name": "HTMLModel",
          "model_module_version": "1.5.0",
          "state": {
            "_dom_classes": [],
            "_model_module": "@jupyter-widgets/controls",
            "_model_module_version": "1.5.0",
            "_model_name": "HTMLModel",
            "_view_count": null,
            "_view_module": "@jupyter-widgets/controls",
            "_view_module_version": "1.5.0",
            "_view_name": "HTMLView",
            "description": "",
            "description_tooltip": null,
            "layout": "IPY_MODEL_9f34196366174c8484e17473ad237129",
            "placeholder": "​",
            "style": "IPY_MODEL_f409be38992946388b68883ed6f3b941",
            "value": " 1.45k/1.45k [00:00&lt;00:00, 6.57kB/s]"
          }
        },
        "8846f193783546358e2a89f75414f733": {
          "model_module": "@jupyter-widgets/base",
          "model_name": "LayoutModel",
          "model_module_version": "1.2.0",
          "state": {
            "_model_module": "@jupyter-widgets/base",
            "_model_module_version": "1.2.0",
            "_model_name": "LayoutModel",
            "_view_count": null,
            "_view_module": "@jupyter-widgets/base",
            "_view_module_version": "1.2.0",
            "_view_name": "LayoutView",
            "align_content": null,
            "align_items": null,
            "align_self": null,
            "border": null,
            "bottom": null,
            "display": null,
            "flex": null,
            "flex_flow": null,
            "grid_area": null,
            "grid_auto_columns": null,
            "grid_auto_flow": null,
            "grid_auto_rows": null,
            "grid_column": null,
            "grid_gap": null,
            "grid_row": null,
            "grid_template_areas": null,
            "grid_template_columns": null,
            "grid_template_rows": null,
            "height": null,
            "justify_content": null,
            "justify_items": null,
            "left": null,
            "margin": null,
            "max_height": null,
            "max_width": null,
            "min_height": null,
            "min_width": null,
            "object_fit": null,
            "object_position": null,
            "order": null,
            "overflow": null,
            "overflow_x": null,
            "overflow_y": null,
            "padding": null,
            "right": null,
            "top": null,
            "visibility": null,
            "width": null
          }
        },
        "aef255e631f241998ebe589655c79056": {
          "model_module": "@jupyter-widgets/base",
          "model_name": "LayoutModel",
          "model_module_version": "1.2.0",
          "state": {
            "_model_module": "@jupyter-widgets/base",
            "_model_module_version": "1.2.0",
            "_model_name": "LayoutModel",
            "_view_count": null,
            "_view_module": "@jupyter-widgets/base",
            "_view_module_version": "1.2.0",
            "_view_name": "LayoutView",
            "align_content": null,
            "align_items": null,
            "align_self": null,
            "border": null,
            "bottom": null,
            "display": null,
            "flex": null,
            "flex_flow": null,
            "grid_area": null,
            "grid_auto_columns": null,
            "grid_auto_flow": null,
            "grid_auto_rows": null,
            "grid_column": null,
            "grid_gap": null,
            "grid_row": null,
            "grid_template_areas": null,
            "grid_template_columns": null,
            "grid_template_rows": null,
            "height": null,
            "justify_content": null,
            "justify_items": null,
            "left": null,
            "margin": null,
            "max_height": null,
            "max_width": null,
            "min_height": null,
            "min_width": null,
            "object_fit": null,
            "object_position": null,
            "order": null,
            "overflow": null,
            "overflow_x": null,
            "overflow_y": null,
            "padding": null,
            "right": null,
            "top": null,
            "visibility": null,
            "width": null
          }
        },
        "a34ca07e901447c99ba6d73147ad9087": {
          "model_module": "@jupyter-widgets/controls",
          "model_name": "DescriptionStyleModel",
          "model_module_version": "1.5.0",
          "state": {
            "_model_module": "@jupyter-widgets/controls",
            "_model_module_version": "1.5.0",
            "_model_name": "DescriptionStyleModel",
            "_view_count": null,
            "_view_module": "@jupyter-widgets/base",
            "_view_module_version": "1.2.0",
            "_view_name": "StyleView",
            "description_width": ""
          }
        },
        "15e29ce639d149e0b68dfc42c69e05ea": {
          "model_module": "@jupyter-widgets/base",
          "model_name": "LayoutModel",
          "model_module_version": "1.2.0",
          "state": {
            "_model_module": "@jupyter-widgets/base",
            "_model_module_version": "1.2.0",
            "_model_name": "LayoutModel",
            "_view_count": null,
            "_view_module": "@jupyter-widgets/base",
            "_view_module_version": "1.2.0",
            "_view_name": "LayoutView",
            "align_content": null,
            "align_items": null,
            "align_self": null,
            "border": null,
            "bottom": null,
            "display": null,
            "flex": null,
            "flex_flow": null,
            "grid_area": null,
            "grid_auto_columns": null,
            "grid_auto_flow": null,
            "grid_auto_rows": null,
            "grid_column": null,
            "grid_gap": null,
            "grid_row": null,
            "grid_template_areas": null,
            "grid_template_columns": null,
            "grid_template_rows": null,
            "height": null,
            "justify_content": null,
            "justify_items": null,
            "left": null,
            "margin": null,
            "max_height": null,
            "max_width": null,
            "min_height": null,
            "min_width": null,
            "object_fit": null,
            "object_position": null,
            "order": null,
            "overflow": null,
            "overflow_x": null,
            "overflow_y": null,
            "padding": null,
            "right": null,
            "top": null,
            "visibility": null,
            "width": null
          }
        },
        "a129dde6db234d1d90e94ae780b1b342": {
          "model_module": "@jupyter-widgets/controls",
          "model_name": "ProgressStyleModel",
          "model_module_version": "1.5.0",
          "state": {
            "_model_module": "@jupyter-widgets/controls",
            "_model_module_version": "1.5.0",
            "_model_name": "ProgressStyleModel",
            "_view_count": null,
            "_view_module": "@jupyter-widgets/base",
            "_view_module_version": "1.2.0",
            "_view_name": "StyleView",
            "bar_color": null,
            "description_width": ""
          }
        },
        "9f34196366174c8484e17473ad237129": {
          "model_module": "@jupyter-widgets/base",
          "model_name": "LayoutModel",
          "model_module_version": "1.2.0",
          "state": {
            "_model_module": "@jupyter-widgets/base",
            "_model_module_version": "1.2.0",
            "_model_name": "LayoutModel",
            "_view_count": null,
            "_view_module": "@jupyter-widgets/base",
            "_view_module_version": "1.2.0",
            "_view_name": "LayoutView",
            "align_content": null,
            "align_items": null,
            "align_self": null,
            "border": null,
            "bottom": null,
            "display": null,
            "flex": null,
            "flex_flow": null,
            "grid_area": null,
            "grid_auto_columns": null,
            "grid_auto_flow": null,
            "grid_auto_rows": null,
            "grid_column": null,
            "grid_gap": null,
            "grid_row": null,
            "grid_template_areas": null,
            "grid_template_columns": null,
            "grid_template_rows": null,
            "height": null,
            "justify_content": null,
            "justify_items": null,
            "left": null,
            "margin": null,
            "max_height": null,
            "max_width": null,
            "min_height": null,
            "min_width": null,
            "object_fit": null,
            "object_position": null,
            "order": null,
            "overflow": null,
            "overflow_x": null,
            "overflow_y": null,
            "padding": null,
            "right": null,
            "top": null,
            "visibility": null,
            "width": null
          }
        },
        "f409be38992946388b68883ed6f3b941": {
          "model_module": "@jupyter-widgets/controls",
          "model_name": "DescriptionStyleModel",
          "model_module_version": "1.5.0",
          "state": {
            "_model_module": "@jupyter-widgets/controls",
            "_model_module_version": "1.5.0",
            "_model_name": "DescriptionStyleModel",
            "_view_count": null,
            "_view_module": "@jupyter-widgets/base",
            "_view_module_version": "1.2.0",
            "_view_name": "StyleView",
            "description_width": ""
          }
        }
      }
    }
  },
  "cells": [
    {
      "cell_type": "markdown",
      "metadata": {
        "id": "view-in-github",
        "colab_type": "text"
      },
      "source": [
        "<a href=\"https://colab.research.google.com/github/gabrielaleonthiriot/Front-End-Developer/blob/main/Copy_of_Adv_Level_1_Twitter_Sentiment_Analysis.ipynb\" target=\"_parent\"><img src=\"https://colab.research.google.com/assets/colab-badge.svg\" alt=\"Open In Colab\"/></a>"
      ]
    },
    {
      "cell_type": "markdown",
      "source": [
        "# Setting Things Up"
      ],
      "metadata": {
        "id": "sDaRTLXjpZeh"
      }
    },
    {
      "cell_type": "markdown",
      "source": [
        "## Installing Python Packages"
      ],
      "metadata": {
        "id": "FYP8-RwFp4u5"
      }
    },
    {
      "cell_type": "code",
      "source": [
        "!pip install -q transformers wordcloud matplotlib emoji==0.6.0 tweepy==4.10.1"
      ],
      "metadata": {
        "id": "x3FoT0bRpg4U",
        "colab": {
          "base_uri": "https://localhost:8080/"
        },
        "outputId": "63bcec89-c58c-45c7-ced1-175bee1f1022"
      },
      "execution_count": 1,
      "outputs": [
        {
          "output_type": "stream",
          "name": "stdout",
          "text": [
            "\u001b[K     |████████████████████████████████| 5.5 MB 6.6 MB/s \n",
            "\u001b[K     |████████████████████████████████| 51 kB 2.2 MB/s \n",
            "\u001b[K     |████████████████████████████████| 94 kB 1.5 MB/s \n",
            "\u001b[K     |████████████████████████████████| 62 kB 570 kB/s \n",
            "\u001b[K     |████████████████████████████████| 163 kB 69.5 MB/s \n",
            "\u001b[K     |████████████████████████████████| 7.6 MB 38.1 MB/s \n",
            "\u001b[?25h  Building wheel for emoji (setup.py) ... \u001b[?25l\u001b[?25hdone\n"
          ]
        }
      ]
    },
    {
      "cell_type": "markdown",
      "source": [
        "## Connecting to the Twitter API\n",
        "Note that this users Lydia's Developer Account.\n",
        "\n",
        "Feel free to create your own credentials after class using this [step-by-step guide](https://developer.twitter.com/en/docs/tutorials/step-by-step-guide-to-making-your-first-request-to-the-twitter-api-v2)!"
      ],
      "metadata": {
        "id": "J5wv2Jf2p9hj"
      }
    },
    {
      "cell_type": "code",
      "source": [
        "import tweepy\n",
        "import requests\n",
        "\n",
        "# All the credentials\n",
        "# Note: It's NOT best practice to have your credentials in code!\n",
        "consumer_key = '516AuumkN6NTumntWZUo0LSlg'\n",
        "consumer_secret = '0ZFmqTI6D0QYmk2be7LRIbu3PnwaksPS4488jL7topFQK7ze1H'\n",
        "bearer_token = 'AAAAAAAAAAAAAAAAAAAAAGbDiQEAAAAAL7V4t2jC1TYWl5QAXDDTY%2F6uMP0%3D1sD5WQ2dixygP1edAdfUy08tKpikter3ghxkDuScJ7nyNgsB5S'\n",
        "access_token = '985378590459072512-101ZlCYLZ98ceyrWIC0BLADzG2bs5E6'\n",
        "access_token_secret = 'VItmuV8nijJThCa3fdXx2Sdk3H1YU9e91FvhUuU2EedpM'\n",
        "\n",
        "client = tweepy.Client(bearer_token=bearer_token, \n",
        "                        consumer_key=consumer_key, \n",
        "                        consumer_secret=consumer_secret, \n",
        "                        access_token=access_token, \n",
        "                        access_token_secret=access_token_secret,\n",
        "                        return_type = requests.Response, \n",
        "                        wait_on_rate_limit=True)"
      ],
      "metadata": {
        "id": "X5NyRs5NpjaR"
      },
      "execution_count": 2,
      "outputs": []
    },
    {
      "cell_type": "markdown",
      "source": [
        "#Search for Tweets\n",
        "Learn more about building a query for Twitter using [these docs](https://developer.twitter.com/en/docs/twitter-api/tweets/search/integrate/build-a-query)"
      ],
      "metadata": {
        "id": "oBrA4VfeqgcV"
      }
    },
    {
      "cell_type": "code",
      "source": [
        "# Code goes here\n",
        "query = 'kitten -is:retweet'\n",
        "search = client.search_recent_tweets(query=query, max_results=100)\n",
        "\n",
        "#def myFunction(argi):\n",
        "#  #lines of code\n",
        "#  return argi\n",
        "#  my Function (\"test\")"
      ],
      "metadata": {
        "id": "HWpFVd0yqssO"
      },
      "execution_count": 23,
      "outputs": []
    },
    {
      "cell_type": "markdown",
      "source": [
        "# Performing Sentiment Analysis\n",
        "We'll use [a model](https://huggingface.co/finiteautomata/bertweet-base-sentiment-analysis?text=I+like+you.+I+love+you) that's from HuggingFace (an AI open source platform) and the [pipeline class ](https://huggingface.co/docs/transformers/main_classes/pipelines)."
      ],
      "metadata": {
        "id": "5X4tVYEKqzM9"
      }
    },
    {
      "cell_type": "code",
      "source": [
        "# Code goes here\n",
        "'''\n",
        "{ \n",
        "  key:value\n",
        "}\n",
        "'''\n",
        "tweets_dic = search.json()\n",
        "\n",
        "tweets_data = tweets_dic['data']\n",
        "\n",
        "print(tweets_data)"
      ],
      "metadata": {
        "id": "b-QtH0_DrMvr",
        "colab": {
          "base_uri": "https://localhost:8080/"
        },
        "outputId": "962f19fc-3396-497c-c977-a2a417e96921"
      },
      "execution_count": 24,
      "outputs": [
        {
          "output_type": "stream",
          "name": "stdout",
          "text": [
            "[{'edit_history_tweet_ids': ['1588941241185882112'], 'id': '1588941241185882112', 'text': 'Music Experience: Atomic Kitten https://t.co/lWFlL4QLvk'}, {'edit_history_tweet_ids': ['1588941237843025921'], 'id': '1588941237843025921', 'text': '@k_fonzarelli And yes, the love you feel for a little kitten right away is undeniable 💜'}, {'edit_history_tweet_ids': ['1588941210391019522'], 'id': '1588941210391019522', 'text': 'chef location kitten nationality tower thought\\nMAYMAY PUEDE BA\\n#MaymayEntrata @maymayentrata07'}, {'edit_history_tweet_ids': ['1588941175951486976'], 'id': '1588941175951486976', 'text': '@Prncss_Kitten Producer of course'}, {'edit_history_tweet_ids': ['1588941149309652992'], 'id': '1588941149309652992', 'text': '(ドラえもん2【TNR保護子猫】残った１匹の子猫を保護しました✴ a fateful encounter with a kitten) \\n動画の切れ端 - https://t.co/2qRPlxY8Nd -#Youtube #子猫 #猫'}, {'edit_history_tweet_ids': ['1588941103159332864'], 'id': '1588941103159332864', 'text': \"@michaelscat2 Is the mom cat not around for him to nurse? You may need some kitten formula like PetLac. It is a milk replacer and is pretty close to a mother cat's milk. Kittens get important antibodies from their mom cats. \\nhttps://t.co/BtLR6YiQON\"}, {'edit_history_tweet_ids': ['1588941092007088128'], 'id': '1588941092007088128', 'text': 'my kitten is staring at my soul rn omg kskdjdjsk'}, {'edit_history_tweet_ids': ['1588941075288580096'], 'id': '1588941075288580096', 'text': '“kitten isn’t a gender” \\n\\npronouns ≠ gender and the idea that your pronouns absolutely have to match with your assigned gender at birth is transphobic'}, {'edit_history_tweet_ids': ['1588941055201886209'], 'id': '1588941055201886209', 'text': '@Gremozzerella @forevershallon @betsvigi9 @witchygibson @Kimberfan76 @bullrike @Hellmark @AliceNiaH @bgpereira3 @fletcherkathy8 @OLarsenB @the_damn_muteKi @ffenics @Seinneann @frankie_fatal @crashonrepeat @wrenwright @RadFemme74 @doodle_bobby @Cave_Art_Films @Smazeny_ @BlakeBlakebabee @GhostInCyber @Hereticalturf @Dorasalter @BernardStBamse @MValentine68 @ncaipics @MattZee0 @fear_the_kitten @Marcus_Salaza @Purplewykr @Charlieismycat_ @Angry_Pear_ @Ana___fox @Woodywing @TransKidsMatter @Dragonkat42 @AlexLabrys @AgentTripleA2 @sazmoyse @FlyHighClouds @baily_tim @garlicplease @DDDickens1180 @OneSmallVoice9 @FrogDeWar @MeToobirdy @veritasalways1 @galluslass But is the NHS a major medical association or not?'}, {'edit_history_tweet_ids': ['1588941043306844163'], 'id': '1588941043306844163', 'text': '@Gremozzerella @latsot @RadFemme74 @bullrike @betsvigi9 @witchygibson @Kimberfan76 @Hellmark @AliceNiaH @bgpereira3 @fletcherkathy8 @OLarsenB @the_damn_muteKi @ffenics @Seinneann @frankie_fatal @crashonrepeat @wrenwright @doodle_bobby @Cave_Art_Films @Smazeny_ @BlakeBlakebabee @GhostInCyber @Hereticalturf @Dorasalter @BernardStBamse @MValentine68 @ncaipics @MattZee0 @fear_the_kitten @Marcus_Salaza @Purplewykr @Charlieismycat_ @Angry_Pear_ @Ana___fox @Woodywing @TransKidsMatter @Dragonkat42 @AlexLabrys @AgentTripleA2 @sazmoyse @FlyHighClouds @baily_tim @garlicplease @DDDickens1180 @OneSmallVoice9 @FrogDeWar @MeToobirdy @veritasalways1 @galluslass Sorry? Did you just suggest the ‘regret rate’ of having children?!\\n\\nAnd your comparison! (This thread can be very funny.)'}, {'edit_history_tweet_ids': ['1588941040660406272'], 'id': '1588941040660406272', 'text': \"So um... I'm literally cleaning up my room right now...... because.... I can't find my new kitten...\\n\\nHe's in my room somewhere......\\n\\nSomewhere..... https://t.co/xaL44iNVR9\"}, {'edit_history_tweet_ids': ['1588940988193837057'], 'id': '1588940988193837057', 'text': 'Can’t wait to get a husky and another kitten for Peppiana to be a bigger sister \\U0001f979 https://t.co/AiwEFc9edP'}, {'edit_history_tweet_ids': ['1588940930429898752'], 'id': '1588940930429898752', 'text': '@michaelscat2 kitten milk in a small baby bottle.'}, {'edit_history_tweet_ids': ['1588940910100119553'], 'id': '1588940910100119553', 'text': 'Kitten and Jesus'}, {'edit_history_tweet_ids': ['1588940899899576321'], 'id': '1588940899899576321', 'text': \"@michaelscat2 Kitten milk from vet I'd say\"}, {'edit_history_tweet_ids': ['1588940892739887104'], 'id': '1588940892739887104', 'text': \"...I eat my fucking words, I've found a kitten right the fuck outside... CRYING https://t.co/ePVEjBYTkL\"}, {'edit_history_tweet_ids': ['1588940838834511872'], 'id': '1588940838834511872', 'text': \"@Gremozzerella @RadFemme74 @bullrike @forevershallon @betsvigi9 @witchygibson @Kimberfan76 @Hellmark @AliceNiaH @bgpereira3 @fletcherkathy8 @OLarsenB @the_damn_muteKi @ffenics @Seinneann @frankie_fatal @crashonrepeat @wrenwright @doodle_bobby @Cave_Art_Films @Smazeny_ @BlakeBlakebabee @GhostInCyber @Hereticalturf @Dorasalter @BernardStBamse @MValentine68 @ncaipics @MattZee0 @fear_the_kitten @Marcus_Salaza @Purplewykr @Charlieismycat_ @Angry_Pear_ @Ana___fox @Woodywing @TransKidsMatter @Dragonkat42 @AlexLabrys @AgentTripleA2 @sazmoyse @FlyHighClouds @baily_tim @garlicplease @DDDickens1180 @OneSmallVoice9 @FrogDeWar @MeToobirdy @veritasalways1 @galluslass I didn't say that, you are being obtuse.\\n\\nI said that doctors need to consider the long-term effects of their decisions. If 100% of people detransitioned, it would not exactly be great evidence that anyone was being helped by transition, would it?\"}, {'edit_history_tweet_ids': ['1588940827257995265'], 'id': '1588940827257995265', 'text': '@michaelscat2 Please do not feed that kitten cow milk'}, {'edit_history_tweet_ids': ['1588940822481104896'], 'id': '1588940822481104896', 'text': \"@Flobo_Baggins8 Those 'what if's' would drive you bananas too! Enjoy snuggles with the kitten instead❤️\"}, {'edit_history_tweet_ids': ['1588940771465793537'], 'id': '1588940771465793537', 'text': \"@SF28891908 I bought a rainbow pillow for Midnight and she turned up her nose at it.  Figures!  Hope, on the other hand, has staked a claim to this blue one.  \\nSo, I gave the rainbow pillow to my daughter's kitten (a feral rescue) below. https://t.co/rDcGikzinO\"}, {'edit_history_tweet_ids': ['1588940687357132801'], 'id': '1588940687357132801', 'text': 'CUTE CATS | MAINE COON KITTEN &amp;amp; Her TORTIE Mother  (Catur CUTE CATS | MAINE COON KITTEN Her TORTIE Mother (Caturday Vlog 2) 🐱 👪 😹 #motherdaughter #catsplaying https://t.co/td4s1v7xg9'}, {'edit_history_tweet_ids': ['1588940620647006208'], 'id': '1588940620647006208', 'text': 'multi millionaire bunny and kitten https://t.co/eXGWa5UB0Q'}, {'edit_history_tweet_ids': ['1588940570407604225'], 'id': '1588940570407604225', 'text': '@Gremozzerella @latsot @forevershallon @betsvigi9 @witchygibson @Kimberfan76 @bullrike @Hellmark @AliceNiaH @bgpereira3 @fletcherkathy8 @OLarsenB @the_damn_muteKi @ffenics @Seinneann @frankie_fatal @crashonrepeat @wrenwright @RadFemme74 @doodle_bobby @Cave_Art_Films @Smazeny_ @BlakeBlakebabee @GhostInCyber @Hereticalturf @Dorasalter @BernardStBamse @MValentine68 @ncaipics @MattZee0 @fear_the_kitten @Marcus_Salaza @Purplewykr @Charlieismycat_ @Angry_Pear_ @Ana___fox @Woodywing @TransKidsMatter @Dragonkat42 @AlexLabrys @AgentTripleA2 @sazmoyse @FlyHighClouds @baily_tim @garlicplease @DDDickens1180 @OneSmallVoice9 @FrogDeWar @MeToobirdy @veritasalways1 Oh really? https://t.co/7s949sm7rc'}, {'edit_history_tweet_ids': ['1588940559418552320'], 'id': '1588940559418552320', 'text': '@kitten_beloved @WiseGamerDad You\\'re like an account that claims to be a surgeon, tweeting \"good surgeons don\\'t wash their hands before surgery\".'}, {'edit_history_tweet_ids': ['1588940543870238720'], 'id': '1588940543870238720', 'text': '@CrudeUK @ePrincessChae Sorry kitten 💕💕'}, {'edit_history_tweet_ids': ['1588940539461779458'], 'id': '1588940539461779458', 'text': \"@Gremozzerella @RadFemme74 @bullrike @forevershallon @betsvigi9 @witchygibson @Kimberfan76 @Hellmark @AliceNiaH @bgpereira3 @fletcherkathy8 @OLarsenB @the_damn_muteKi @ffenics @Seinneann @frankie_fatal @crashonrepeat @wrenwright @doodle_bobby @Cave_Art_Films @Smazeny_ @BlakeBlakebabee @GhostInCyber @Hereticalturf @Dorasalter @BernardStBamse @MValentine68 @ncaipics @MattZee0 @fear_the_kitten @Marcus_Salaza @Purplewykr @Charlieismycat_ @Angry_Pear_ @Ana___fox @Woodywing @TransKidsMatter @Dragonkat42 @AlexLabrys @AgentTripleA2 @sazmoyse @FlyHighClouds @baily_tim @garlicplease @DDDickens1180 @OneSmallVoice9 @FrogDeWar @MeToobirdy @veritasalways1 @galluslass So? I'm saying that all medical decisions are based on a balance of evidence, outcomes, ability to consent and many other things.\\n\\nLet's make sure we have as much of the evidence we can get before making medical decisions.\"}, {'edit_history_tweet_ids': ['1588940534907031552'], 'id': '1588940534907031552', 'text': 'I feel like this song qualifies as a crazy ass vocaloid moment just because Kaito calls the viewer Kitten several times\\nhttps://t.co/wp55QKnGGe https://t.co/qS5YKB9ecC'}, {'edit_history_tweet_ids': ['1588940515504181249'], 'id': '1588940515504181249', 'text': 'Kittenwinkel - Voor alle kitten spullen en Kitten checklist https://t.co/nL3oeZnPwY...'}, {'edit_history_tweet_ids': ['1588940498168778752'], 'id': '1588940498168778752', 'text': 'Naming a cat is the most important step in your kitten’s life\\n\\nhttps://t.co/rqPeJEXEMh\\n\\nRecent studies from dubious cat blogs have shown that 80 percent of cat owners regret the name they gave their feline friends\\n#catlovers #catlover #kittens #kitten #parentingtips https://t.co/nmamVLuRcB'}, {'edit_history_tweet_ids': ['1588940485200334848'], 'id': '1588940485200334848', 'text': 'kitten update:\\n\\nit is their birthday. officially 1 year old babies.'}, {'edit_history_tweet_ids': ['1588940467538120705'], 'id': '1588940467538120705', 'text': 'toby is getting a kitten today'}, {'edit_history_tweet_ids': ['1588940462106107905'], 'id': '1588940462106107905', 'text': \"@latsot @RadFemme74 @bullrike @forevershallon @betsvigi9 @witchygibson @Kimberfan76 @Hellmark @AliceNiaH @bgpereira3 @fletcherkathy8 @OLarsenB @the_damn_muteKi @ffenics @Seinneann @frankie_fatal @crashonrepeat @wrenwright @doodle_bobby @Cave_Art_Films @Smazeny_ @BlakeBlakebabee @GhostInCyber @Hereticalturf @Dorasalter @BernardStBamse @MValentine68 @ncaipics @MattZee0 @fear_the_kitten @Marcus_Salaza @Purplewykr @Charlieismycat_ @Angry_Pear_ @Ana___fox @Woodywing @TransKidsMatter @Dragonkat42 @AlexLabrys @AgentTripleA2 @sazmoyse @FlyHighClouds @baily_tim @garlicplease @DDDickens1180 @OneSmallVoice9 @FrogDeWar @MeToobirdy @veritasalways1 @galluslass I literally do not believe that we need to predict someone's wants 30 years in the future when deciding to give them care, no\"}, {'edit_history_tweet_ids': ['1588940455609307136'], 'id': '1588940455609307136', 'text': 'fuel instance cod home kitten they\\nMAYMAY PUEDE BA\\n#MaymayEntrata @maymayentrata07'}, {'edit_history_tweet_ids': ['1588940337422118912'], 'id': '1588940337422118912', 'text': '@fasc1nate Omigosh why does it looks like kitten istg!?!'}, {'edit_history_tweet_ids': ['1588940319864651776'], 'id': '1588940319864651776', 'text': 'My spell today uses, a kitten,  a skirt ,  an egg'}, {'edit_history_tweet_ids': ['1588940312298151936'], 'id': '1588940312298151936', 'text': '@Gremozzerella @latsot @forevershallon @betsvigi9 @witchygibson @Kimberfan76 @bullrike @Hellmark @AliceNiaH @bgpereira3 @fletcherkathy8 @OLarsenB @the_damn_muteKi @ffenics @Seinneann @frankie_fatal @crashonrepeat @wrenwright @RadFemme74 @doodle_bobby @Cave_Art_Films @Smazeny_ @BlakeBlakebabee @GhostInCyber @Hereticalturf @Dorasalter @BernardStBamse @MValentine68 @ncaipics @MattZee0 @fear_the_kitten @Marcus_Salaza @Purplewykr @Charlieismycat_ @Angry_Pear_ @Ana___fox @Woodywing @TransKidsMatter @Dragonkat42 @AlexLabrys @AgentTripleA2 @sazmoyse @FlyHighClouds @baily_tim @garlicplease @DDDickens1180 @OneSmallVoice9 @FrogDeWar @MeToobirdy @veritasalways1 So this is why Leslie Rutledge and other “sane” American leaders are banning the practice?  Try harder. https://t.co/g7IWH3qCji'}, {'edit_history_tweet_ids': ['1588940279981084673'], 'id': '1588940279981084673', 'text': \"@latsot @forevershallon @betsvigi9 @witchygibson @Kimberfan76 @bullrike @Hellmark @AliceNiaH @bgpereira3 @fletcherkathy8 @OLarsenB @the_damn_muteKi @ffenics @Seinneann @frankie_fatal @crashonrepeat @wrenwright @RadFemme74 @doodle_bobby @Cave_Art_Films @Smazeny_ @BlakeBlakebabee @GhostInCyber @Hereticalturf @Dorasalter @BernardStBamse @MValentine68 @ncaipics @MattZee0 @fear_the_kitten @Marcus_Salaza @Purplewykr @Charlieismycat_ @Angry_Pear_ @Ana___fox @Woodywing @TransKidsMatter @Dragonkat42 @AlexLabrys @AgentTripleA2 @sazmoyse @FlyHighClouds @baily_tim @garlicplease @DDDickens1180 @OneSmallVoice9 @FrogDeWar @MeToobirdy @veritasalways1 @galluslass The NHS sees like .3 trans people a week lmao, I'm hardly a fan, even before y'all started trying to institute state torture of trans kids\"}, {'edit_history_tweet_ids': ['1588940239334420480'], 'id': '1588940239334420480', 'text': '@Prncss_Kitten The pretty people are behind the camera so I’m directing.'}, {'edit_history_tweet_ids': ['1588940224918609920'], 'id': '1588940224918609920', 'text': '@pansprodigy KITTEN!!! Gimmie! 🥰'}, {'edit_history_tweet_ids': ['1588940204190175232'], 'id': '1588940204190175232', 'text': '@attack_kitten no idea, I think my account is public. Try the followers bit in your profile'}, {'edit_history_tweet_ids': ['1588940153615257602'], 'id': '1588940153615257602', 'text': \"@Gremozzerella @RadFemme74 @bullrike @forevershallon @betsvigi9 @witchygibson @Kimberfan76 @Hellmark @AliceNiaH @bgpereira3 @fletcherkathy8 @OLarsenB @the_damn_muteKi @ffenics @Seinneann @frankie_fatal @crashonrepeat @wrenwright @doodle_bobby @Cave_Art_Films @Smazeny_ @BlakeBlakebabee @GhostInCyber @Hereticalturf @Dorasalter @BernardStBamse @MValentine68 @ncaipics @MattZee0 @fear_the_kitten @Marcus_Salaza @Purplewykr @Charlieismycat_ @Angry_Pear_ @Ana___fox @Woodywing @TransKidsMatter @Dragonkat42 @AlexLabrys @AgentTripleA2 @sazmoyse @FlyHighClouds @baily_tim @garlicplease @DDDickens1180 @OneSmallVoice9 @FrogDeWar @MeToobirdy @veritasalways1 @galluslass Because we need to understand medical decisions in the light of their long-term outcomes. It's not the *only* relevant thing but it is *absolutely* highly relevant.\\n\\nYou can not possibly believe otherwise.\"}, {'edit_history_tweet_ids': ['1588940131599351810'], 'id': '1588940131599351810', 'text': 'there are few things in life as pure as waking up next to a sleepy kitten in ur bed https://t.co/WuzPHtiT11'}, {'edit_history_tweet_ids': ['1588940064469704704'], 'id': '1588940064469704704', 'text': \"@rhonjuyeon shdkfjjd she's still a kitten but her head looks huge here for some reason 😭\"}, {'edit_history_tweet_ids': ['1588940003518074882'], 'id': '1588940003518074882', 'text': '@michaelscat2 Call the vet and see what they recommend for a kitten this young'}, {'edit_history_tweet_ids': ['1588939952208781312'], 'id': '1588939952208781312', 'text': 'comic boring kitten employee dictionary IT\\nMAYMAY PUEDE BA\\n#MaymayEntrata @maymayentrata07'}, {'edit_history_tweet_ids': ['1588939947498967040'], 'id': '1588939947498967040', 'text': \"@Robertsixto2 That reminds me of a Poem that is Loved by a VERY DEAR FRIEND of Mine  . . .💖🎩💖\\nYou heard a Kitten's Cry . . .💖\\nSometimes that's the Best you can do! https://t.co/NeHrKVgJGA\"}, {'edit_history_tweet_ids': ['1588939925528793089'], 'id': '1588939925528793089', 'text': \"It's hard to put it into words, you're the only one with an understanding face...like a moody kitten, sometimes kind and then looking the other way\"}, {'edit_history_tweet_ids': ['1588939902334685184'], 'id': '1588939902334685184', 'text': \"@kitten_beloved @WiseGamerDad I don't believe any of this is true. I think you're just crafting a bio to save yourself embarrassment. If it is true, not delegating was your own fault. I delegate whenever I can but I still have less time to code than the non-lead engineers.\"}, {'edit_history_tweet_ids': ['1588939854007500802'], 'id': '1588939854007500802', 'text': '@michaelscat2 Go to the vet or pet store and get canned kitten milk. They should also have little kitten bottles.'}, {'edit_history_tweet_ids': ['1588939807551782912'], 'id': '1588939807551782912', 'text': 'Could I be your kitten? 🐈\\u200d⬛ ❤️ https://t.co/dGKpxaLzbZ'}, {'edit_history_tweet_ids': ['1588939783761694720'], 'id': '1588939783761694720', 'text': '@latsot @forevershallon @betsvigi9 @witchygibson @Kimberfan76 @bullrike @Hellmark @AliceNiaH @bgpereira3 @fletcherkathy8 @OLarsenB @the_damn_muteKi @ffenics @Seinneann @frankie_fatal @crashonrepeat @wrenwright @RadFemme74 @doodle_bobby @Cave_Art_Films @Smazeny_ @BlakeBlakebabee @GhostInCyber @Hereticalturf @Dorasalter @BernardStBamse @MValentine68 @ncaipics @MattZee0 @fear_the_kitten @Marcus_Salaza @Purplewykr @Charlieismycat_ @Angry_Pear_ @Ana___fox @Woodywing @TransKidsMatter @Dragonkat42 @AlexLabrys @AgentTripleA2 @sazmoyse @FlyHighClouds @baily_tim @garlicplease @DDDickens1180 @OneSmallVoice9 @FrogDeWar @MeToobirdy @veritasalways1 @galluslass https://t.co/XIEPgwacxc'}, {'edit_history_tweet_ids': ['1588939783170293762'], 'id': '1588939783170293762', 'text': '@kina_kitten @wc_hawkkz i actually have a character who was accidentally caught as a part of a TNR program, so he couldn’t have kits. it’s pretty funny.'}, {'edit_history_tweet_ids': ['1588939728501587970'], 'id': '1588939728501587970', 'text': \"@Gremozzerella @forevershallon @betsvigi9 @witchygibson @Kimberfan76 @bullrike @Hellmark @AliceNiaH @bgpereira3 @fletcherkathy8 @OLarsenB @the_damn_muteKi @ffenics @Seinneann @frankie_fatal @crashonrepeat @wrenwright @RadFemme74 @doodle_bobby @Cave_Art_Films @Smazeny_ @BlakeBlakebabee @GhostInCyber @Hereticalturf @Dorasalter @BernardStBamse @MValentine68 @ncaipics @MattZee0 @fear_the_kitten @Marcus_Salaza @Purplewykr @Charlieismycat_ @Angry_Pear_ @Ana___fox @Woodywing @TransKidsMatter @Dragonkat42 @AlexLabrys @AgentTripleA2 @sazmoyse @FlyHighClouds @baily_tim @garlicplease @DDDickens1180 @OneSmallVoice9 @FrogDeWar @MeToobirdy @veritasalways1 @galluslass The NHS isn't a major medical association?\\n\\nI kind of think it is.\"}, {'edit_history_tweet_ids': ['1588939648109539328'], 'id': '1588939648109539328', 'text': 'Kitten Reportedly Thrown Into Burning Fire Pit Deserves Justice https://t.co/kE6i3mHDLj'}, {'edit_history_tweet_ids': ['1588939623065321472'], 'id': '1588939623065321472', 'text': 'My Kitten Stops Crying Only When I Touches Him https://t.co/yj5GJ0pjkR'}, {'edit_history_tweet_ids': ['1588939595219173376'], 'id': '1588939595219173376', 'text': \"@Gremozzerella @forevershallon @betsvigi9 @witchygibson @Kimberfan76 @bullrike @Hellmark @AliceNiaH @bgpereira3 @fletcherkathy8 @OLarsenB @the_damn_muteKi @ffenics @Seinneann @frankie_fatal @crashonrepeat @wrenwright @RadFemme74 @doodle_bobby @Cave_Art_Films @Smazeny_ @BlakeBlakebabee @GhostInCyber @Hereticalturf @Dorasalter @BernardStBamse @MValentine68 @ncaipics @MattZee0 @fear_the_kitten @Marcus_Salaza @Purplewykr @Charlieismycat_ @Angry_Pear_ @Ana___fox @Woodywing @TransKidsMatter @Dragonkat42 @AlexLabrys @AgentTripleA2 @sazmoyse @FlyHighClouds @baily_tim @garlicplease @DDDickens1180 @OneSmallVoice9 @FrogDeWar @MeToobirdy @veritasalways1 @galluslass might have. But right now, in this actual world, that is nothing but a fantasy. That evidence doesn't exist and nor is it close to existing.\\n\\nIt's wishful thinking.\\n\\nWe need more evidence before deciding that irreversible procedures are a great idea for children's health.\"}, {'edit_history_tweet_ids': ['1588939595131256832'], 'id': '1588939595131256832', 'text': '@Kitten_172 가동할 수 있는 범위는 얼마나 되는데.'}, {'edit_history_tweet_ids': ['1588939590185803776'], 'id': '1588939590185803776', 'text': '@beefytopdog Getting smashed by a kitten with a mace wearing the Lift House coat of arms'}, {'edit_history_tweet_ids': ['1588939498930700288'], 'id': '1588939498930700288', 'text': \"@latsot @forevershallon @betsvigi9 @witchygibson @Kimberfan76 @bullrike @Hellmark @AliceNiaH @bgpereira3 @fletcherkathy8 @OLarsenB @the_damn_muteKi @ffenics @Seinneann @frankie_fatal @crashonrepeat @wrenwright @RadFemme74 @doodle_bobby @Cave_Art_Films @Smazeny_ @BlakeBlakebabee @GhostInCyber @Hereticalturf @Dorasalter @BernardStBamse @MValentine68 @ncaipics @MattZee0 @fear_the_kitten @Marcus_Salaza @Purplewykr @Charlieismycat_ @Angry_Pear_ @Ana___fox @Woodywing @TransKidsMatter @Dragonkat42 @AlexLabrys @AgentTripleA2 @sazmoyse @FlyHighClouds @baily_tim @garlicplease @DDDickens1180 @OneSmallVoice9 @FrogDeWar @MeToobirdy @veritasalways1 @galluslass Ha, I'll believe that when I see it, in the meantime learn to Google and realize that every major medical association supports gender affirming care\"}, {'edit_history_tweet_ids': ['1588939486708510720'], 'id': '1588939486708510720', 'text': '@DinosaurDracula Our new kitten Chia says hi https://t.co/2JjU3FwmSL'}, {'edit_history_tweet_ids': ['1588939467435700224'], 'id': '1588939467435700224', 'text': '@Kitten_172 (쉬이 깜짝 놀라거나, 벌레를 혐오하진 않았다. 오히려 친숙했지. 주변을 빙빙 도는 날벌레를 보다가, 손으로 탁, 잡을 뻔 했다. 주춤, 하고는 크흠. 헛기침을 한다.) 이번에도 재미있는 장난감을 만들었네. ... 대신 나처럼 날파리 새끼 잡듯이 탁 잡으면 아주 박살이 나겠지만. 역시 재주가 좋아.'}, {'edit_history_tweet_ids': ['1588939449336881152'], 'id': '1588939449336881152', 'text': 'morning ballet kitten salt generation week\\n\\nMAYMAY PUEDE BA\\n#MaymayEntrata @maymayentrata07'}, {'edit_history_tweet_ids': ['1588939448678371328'], 'id': '1588939448678371328', 'text': 'baseball awful kitten frame businesswoman organise\\n\\n#MaymayEntrata @maymayentrata07'}, {'edit_history_tweet_ids': ['1588939393259094018'], 'id': '1588939393259094018', 'text': \"I saw a god the other day, by the river on a rainy afternoon. He helped a kitten that was left all alone. It's a god that only I can see. A black-winged angel that came down from the heavens just for me.\"}, {'edit_history_tweet_ids': ['1588939386267525121'], 'id': '1588939386267525121', 'text': '@joonroov the kitten is making music'}, {'edit_history_tweet_ids': ['1588939367699349505'], 'id': '1588939367699349505', 'text': \"Thank you for always taking care of me, I'll more taking care of you too. Especially in bed, I'll make sure I'll be good for you.\\n\\nJust kidding. I love you, kitten.\"}, {'edit_history_tweet_ids': ['1588939355456163840'], 'id': '1588939355456163840', 'text': 'The kitten is cute, but a little loud.'}, {'edit_history_tweet_ids': ['1588939235947675651'], 'id': '1588939235947675651', 'text': 'Have you been a naughty boy and deserve a good spanking?\\nCall a Sexy Kitten and get #lesson you deserve\\nCall 4 a good bare bottom spanking! https://t.co/firymevJ1c  \\n#spanking #barebottom  phonesex https://t.co/8FgJ0XUVXK'}, {'edit_history_tweet_ids': ['1588939212786749442'], 'id': '1588939212786749442', 'text': \"@Gremozzerella @forevershallon @betsvigi9 @witchygibson @Kimberfan76 @bullrike @Hellmark @AliceNiaH @bgpereira3 @fletcherkathy8 @OLarsenB @the_damn_muteKi @ffenics @Seinneann @frankie_fatal @crashonrepeat @wrenwright @RadFemme74 @doodle_bobby @Cave_Art_Films @Smazeny_ @BlakeBlakebabee @GhostInCyber @Hereticalturf @Dorasalter @BernardStBamse @MValentine68 @ncaipics @MattZee0 @fear_the_kitten @Marcus_Salaza @Purplewykr @Charlieismycat_ @Angry_Pear_ @Ana___fox @Woodywing @TransKidsMatter @Dragonkat42 @AlexLabrys @AgentTripleA2 @sazmoyse @FlyHighClouds @baily_tim @garlicplease @DDDickens1180 @OneSmallVoice9 @FrogDeWar @MeToobirdy @veritasalways1 @galluslass The evidence does not point that way. Let me be clear: if it there is ever a wide body of evidence that very clearly indicates that 'affirmative care' has the best lifelong outcomes for children, then I would agree we should do it, regardless of any personal reservations I\\n\\n1&gt;\"}, {'edit_history_tweet_ids': ['1588939204129878018'], 'id': '1588939204129878018', 'text': '@kitten_beloved @WiseGamerDad On the contrary you have shown remarkable energy digging yourself deeper and deeper into a hole. It is clear to me that either you are not a software engineer at all, or you are a very inexperienced one. I\\'m going to go with \"not at all\".'}, {'edit_history_tweet_ids': ['1588939202535649280'], 'id': '1588939202535649280', 'text': 'The Kitten Corner: Harry Potter &amp; the Goblet of Fire - Part 17 is now up on my YouTube!\\n\\n@Masanko #YouTubeGaming #TeamB42 \\n\\nhttps://t.co/oyjcwH8utW https://t.co/VXdYxtwJaU'}, {'edit_history_tweet_ids': ['1588939156679708672'], 'id': '1588939156679708672', 'text': 'Chennai adoption!\\nTwo month old male kitten up for adoption. Litter trained and dewormed. Super playful and eats solid food. People who would like to adopt him, please let me know.\\n#CatsOfTwitter \\n#AdoptDontShop https://t.co/EbQZzzP90W'}, {'edit_history_tweet_ids': ['1588939081354194944'], 'id': '1588939081354194944', 'text': 'Near cat-astrophe: Kitten halts Bronx train Thursday morning – Bronx Times https://t.co/HBAvrKSgED'}, {'edit_history_tweet_ids': ['1588939060365520896'], 'id': '1588939060365520896', 'text': 'I’m so stressed with this kitten, I got a new litter box and within 2 hours she had all of the litter outside of the box..'}, {'edit_history_tweet_ids': ['1588939007542849536'], 'id': '1588939007542849536', 'text': \"@latsot @RadFemme74 @bullrike @forevershallon @betsvigi9 @witchygibson @Kimberfan76 @Hellmark @AliceNiaH @bgpereira3 @fletcherkathy8 @OLarsenB @the_damn_muteKi @ffenics @Seinneann @frankie_fatal @crashonrepeat @wrenwright @doodle_bobby @Cave_Art_Films @Smazeny_ @BlakeBlakebabee @GhostInCyber @Hereticalturf @Dorasalter @BernardStBamse @MValentine68 @ncaipics @MattZee0 @fear_the_kitten @Marcus_Salaza @Purplewykr @Charlieismycat_ @Angry_Pear_ @Ana___fox @Woodywing @TransKidsMatter @Dragonkat42 @AlexLabrys @AgentTripleA2 @sazmoyse @FlyHighClouds @baily_tim @garlicplease @DDDickens1180 @OneSmallVoice9 @FrogDeWar @MeToobirdy @veritasalways1 @galluslass Doctors and clinics keep records on regret rates for various surgeries, but that doesn't mean they stop performing them. Having a kid has a higher regret rate than SRS.\"}, {'edit_history_tweet_ids': ['1588938942539497472'], 'id': '1588938942539497472', 'text': 'Happy #Caturday! The world’s saddest kitten is visiting my store. If you adopted him, what would you name him? @thechrisbarron https://t.co/T8mca8w75B'}, {'edit_history_tweet_ids': ['1588938935925080065'], 'id': '1588938935925080065', 'text': 'Kitten  https://t.co/oARLXwgde6'}, {'edit_history_tweet_ids': ['1588938859085430784'], 'id': '1588938859085430784', 'text': 'I want a kitten \\U0001f979 pls'}, {'edit_history_tweet_ids': ['1588938846028591104'], 'id': '1588938846028591104', 'text': 'Injured And Immobile Bobcat Kitten Rescued From Phoenix Yard https://t.co/UNN1BhUodV'}, {'edit_history_tweet_ids': ['1588938838847938560'], 'id': '1588938838847938560', 'text': 'The interior DL are soft as kitten shit. Getting absolutely bullied. No push. Linebackers are non-existent. Offense is piss poor. This team is playing soft'}, {'edit_history_tweet_ids': ['1588938824528277504'], 'id': '1588938824528277504', 'text': '@michaelscat2 Kitten formula milk in a kitten bottle. Also, help him poo. https://t.co/U7Ra4Mmsi5'}, {'edit_history_tweet_ids': ['1588938810997760000'], 'id': '1588938810997760000', 'text': \"@latsot @RadFemme74 @bullrike @forevershallon @betsvigi9 @witchygibson @Kimberfan76 @Hellmark @AliceNiaH @bgpereira3 @fletcherkathy8 @OLarsenB @the_damn_muteKi @ffenics @Seinneann @frankie_fatal @crashonrepeat @wrenwright @doodle_bobby @Cave_Art_Films @Smazeny_ @BlakeBlakebabee @GhostInCyber @Hereticalturf @Dorasalter @BernardStBamse @MValentine68 @ncaipics @MattZee0 @fear_the_kitten @Marcus_Salaza @Purplewykr @Charlieismycat_ @Angry_Pear_ @Ana___fox @Woodywing @TransKidsMatter @Dragonkat42 @AlexLabrys @AgentTripleA2 @sazmoyse @FlyHighClouds @baily_tim @garlicplease @DDDickens1180 @OneSmallVoice9 @FrogDeWar @MeToobirdy @veritasalways1 @galluslass No, why would it be? How's it their job to somehow make sure people don't change their mind later (literally an impossible task)?\"}, {'edit_history_tweet_ids': ['1588938768693612545'], 'id': '1588938768693612545', 'text': '@FORGEDINFlRE / / ttyl kitten'}, {'edit_history_tweet_ids': ['1588938753342844929'], 'id': '1588938753342844929', 'text': \"@Gnaske_Lone @GaiminGladiator @StoneforgedT @hxrdecki @pkmkwastaken @Artyco11 @MaxStrafe you cant.... must to know kitten's language\"}, {'edit_history_tweet_ids': ['1588938741296816128'], 'id': '1588938741296816128', 'text': '@LtUhura2017 It’s not much, but I honored Ms Nichols with our kitten, Nicole. https://t.co/CuzuqTqvIG'}, {'edit_history_tweet_ids': ['1588938735948742656'], 'id': '1588938735948742656', 'text': '@MinCat_Kitten Да, думаю это уже стереотипы..'}, {'edit_history_tweet_ids': ['1588938694832320513'], 'id': '1588938694832320513', 'text': 'my dad to my mom at the dinner table when I was in 6th grade and he screamed at me while helping me do my algebra homework and I sat there with tears streaming down my face looking like that kitten https://t.co/TvsUVbdpi5'}, {'edit_history_tweet_ids': ['1588938694798426114'], 'id': '1588938694798426114', 'text': '@bnnymira at my house in 5 kitten !!'}, {'edit_history_tweet_ids': ['1588938686628265985'], 'id': '1588938686628265985', 'text': 'Ragdoll kitten https://t.co/ePWiA12LwC'}, {'edit_history_tweet_ids': ['1588938658857750528'], 'id': '1588938658857750528', 'text': '@____B_S____ I guess our cat was still a kitten, but he used to love leftover vanilla ice cream.'}, {'edit_history_tweet_ids': ['1588938651056029696'], 'id': '1588938651056029696', 'text': \"@latsot @RadFemme74 @bullrike @forevershallon @betsvigi9 @witchygibson @Kimberfan76 @Hellmark @AliceNiaH @bgpereira3 @fletcherkathy8 @OLarsenB @the_damn_muteKi @ffenics @Seinneann @frankie_fatal @crashonrepeat @wrenwright @doodle_bobby @Cave_Art_Films @Smazeny_ @BlakeBlakebabee @GhostInCyber @Hereticalturf @Dorasalter @BernardStBamse @MValentine68 @ncaipics @MattZee0 @fear_the_kitten @Marcus_Salaza @Purplewykr @Charlieismycat_ @Angry_Pear_ @Ana___fox @Woodywing @TransKidsMatter @Dragonkat42 @AlexLabrys @AgentTripleA2 @sazmoyse @FlyHighClouds @baily_tim @garlicplease @DDDickens1180 @OneSmallVoice9 @FrogDeWar @MeToobirdy @veritasalways1 @galluslass That's how they feel, it doesn't mean my body or the body of any other trans person is. I don't feel damaged, the changes I made were all good things\"}, {'edit_history_tweet_ids': ['1588938619242573824'], 'id': '1588938619242573824', 'text': 'Im officially indtroducing the newest kitten to Aiya\\'s brood: Chi (for \"cheeks\"). Chi has one thing on her mind: fish. The girl can\\'t get enough of them, and as you can see, they end up packing her buns. Beware this smol cat. She may be coming for your tuna sandwhich! https://t.co/jrXoFEvyDb'}, {'edit_history_tweet_ids': ['1588938607276208128'], 'id': '1588938607276208128', 'text': '@RadFemme74 @Seinneann @fear_the_kitten @frankie_fatal @latsot @Gremozzerella @wrenwright @bullrike @forevershallon @OLarsenB @the_damn_muteKi @AliceNiaH @ffenics @Hellmark @Kimberfan76 @crashonrepeat @doodle_bobby @Cave_Art_Films @Smazeny_ @BlakeBlakebabee @GhostInCyber @Hereticalturf @Dorasalter @witchygibson @BernardStBamse @MValentine68 @ncaipics @MattZee0 @Marcus_Salaza @fletcherkathy8 @Purplewykr @Charlieismycat_ @betsvigi9 @Angry_Pear_ @Ana___fox @bgpereira3 @Woodywing @TransKidsMatter @Dragonkat42 @AlexLabrys @AgentTripleA2 @sazmoyse @FlyHighClouds @baily_tim @garlicplease @DDDickens1180 @OneSmallVoice9 @FrogDeWar @MeToobirdy @veritasalways1 2/2 …and by doing so undemocratically, the Supreme Court has created a problem that only it can fix.  Until then, Obergefell will continue to have ruinous consequences for religious liberty.'}, {'edit_history_tweet_ids': ['1588938604696444929'], 'id': '1588938604696444929', 'text': '#rabbit #cat #littlerabbit #conejo #conejito #gato #caturday #catlover #CatsOfTwitter #CatsOnTwitter #catslover #animallovers #animalitos #funnypets #cute #cutepets #kitten #greatday https://t.co/o73x0uHa3w'}, {'edit_history_tweet_ids': ['1588938600976388096'], 'id': '1588938600976388096', 'text': '@pandalynns A patient was facing eviction and had one last kitten to home. She needed to have max 2 cats, but had him which made 3. We already knew we were getting Penny. Brought him home to rehome, but he was a perfect fit for our family and even the hubby, though still allergic.'}, {'edit_history_tweet_ids': ['1588938589165211648'], 'id': '1588938589165211648', 'text': '@Curvy_Kitten_ 😍😘'}, {'edit_history_tweet_ids': ['1588938536614793216'], 'id': '1588938536614793216', 'text': '@neodustypink Glad to hear you say that!💗 I would love to look at Sannie, the kitten, all day and night of the day\\U0001f979\\U0001f979🐱❤️'}]\n"
          ]
        }
      ]
    },
    {
      "cell_type": "code",
      "source": [
        "from transformers import pipeline\n",
        "\n",
        "sentiment_analysis = pipeline(model='finiteautomata/bertweet-base-sentiment-analysis')\n",
        "\n",
        "tweets = []\n",
        "\n",
        "for tweet in tweets_data:\n",
        "  try:\n",
        "    content = tweet['text'][:128]\n",
        "    sentiment = sentiment_analysis(content)\n",
        "    tweets.append({\n",
        "        'tweet': content,\n",
        "        'sentiment': sentiment[0]['label']\n",
        "    })\n",
        "  except:\n",
        "    pass"
      ],
      "metadata": {
        "id": "XQa4YpTDrfdo",
        "colab": {
          "base_uri": "https://localhost:8080/",
          "height": 49,
          "referenced_widgets": [
            "1b1a08f62228434e974a47ca4bbaeee8",
            "a42e062ce8e04958bbc96cacb564f522",
            "31d04c7c5ad94b2283806a72bf2cfed6",
            "06194459071a4b58b7de69925b11f803",
            "8846f193783546358e2a89f75414f733",
            "aef255e631f241998ebe589655c79056",
            "a34ca07e901447c99ba6d73147ad9087",
            "15e29ce639d149e0b68dfc42c69e05ea",
            "a129dde6db234d1d90e94ae780b1b342",
            "9f34196366174c8484e17473ad237129",
            "f409be38992946388b68883ed6f3b941"
          ]
        },
        "outputId": "41a2d45b-988d-423b-fc67-fef094b38fb4"
      },
      "execution_count": 25,
      "outputs": [
        {
          "output_type": "display_data",
          "data": {
            "text/plain": [
              "Downloading:   0%|          | 0.00/1.45k [00:00<?, ?B/s]"
            ],
            "application/vnd.jupyter.widget-view+json": {
              "version_major": 2,
              "version_minor": 0,
              "model_id": "1b1a08f62228434e974a47ca4bbaeee8"
            }
          },
          "metadata": {}
        }
      ]
    },
    {
      "cell_type": "markdown",
      "source": [
        "# Explore the Results with `pandas` and `matplotlib`\n",
        "[`pandas`](https://pandas.pydata.org/) is a powerful data analysis library that allows us to view and manipulate data.\n",
        "\n",
        "[`matplotlib`](https://matplotlib.org/) allows us to visualize data with Python."
      ],
      "metadata": {
        "id": "6rTw90tyrQwS"
      }
    },
    {
      "cell_type": "code",
      "source": [
        "import pandas as pd\n",
        "\n",
        "df = pd.DataFrame(tweets)\n",
        "pd.set_option('display.max_colwidth', None)\n",
        "\n",
        "display (df[ df['sentiment'] == 'POS' ]. head(1))\n",
        "display (df[ df['sentiment'] == 'NEU' ]. head(1))\n",
        "display (df[ df['sentiment'] == 'NEG' ]. head(1))"
      ],
      "metadata": {
        "id": "oNl6hItOsaDf",
        "colab": {
          "base_uri": "https://localhost:8080/",
          "height": 208
        },
        "outputId": "129c64db-8dbf-46e0-bf39-555c88831069"
      },
      "execution_count": 26,
      "outputs": [
        {
          "output_type": "display_data",
          "data": {
            "text/plain": [
              "                                                                                     tweet  \\\n",
              "1  @k_fonzarelli And yes, the love you feel for a little kitten right away is undeniable 💜   \n",
              "\n",
              "  sentiment  \n",
              "1       POS  "
            ],
            "text/html": [
              "\n",
              "  <div id=\"df-0d5c4809-df13-4584-8da0-c954da12596f\">\n",
              "    <div class=\"colab-df-container\">\n",
              "      <div>\n",
              "<style scoped>\n",
              "    .dataframe tbody tr th:only-of-type {\n",
              "        vertical-align: middle;\n",
              "    }\n",
              "\n",
              "    .dataframe tbody tr th {\n",
              "        vertical-align: top;\n",
              "    }\n",
              "\n",
              "    .dataframe thead th {\n",
              "        text-align: right;\n",
              "    }\n",
              "</style>\n",
              "<table border=\"1\" class=\"dataframe\">\n",
              "  <thead>\n",
              "    <tr style=\"text-align: right;\">\n",
              "      <th></th>\n",
              "      <th>tweet</th>\n",
              "      <th>sentiment</th>\n",
              "    </tr>\n",
              "  </thead>\n",
              "  <tbody>\n",
              "    <tr>\n",
              "      <th>1</th>\n",
              "      <td>@k_fonzarelli And yes, the love you feel for a little kitten right away is undeniable 💜</td>\n",
              "      <td>POS</td>\n",
              "    </tr>\n",
              "  </tbody>\n",
              "</table>\n",
              "</div>\n",
              "      <button class=\"colab-df-convert\" onclick=\"convertToInteractive('df-0d5c4809-df13-4584-8da0-c954da12596f')\"\n",
              "              title=\"Convert this dataframe to an interactive table.\"\n",
              "              style=\"display:none;\">\n",
              "        \n",
              "  <svg xmlns=\"http://www.w3.org/2000/svg\" height=\"24px\"viewBox=\"0 0 24 24\"\n",
              "       width=\"24px\">\n",
              "    <path d=\"M0 0h24v24H0V0z\" fill=\"none\"/>\n",
              "    <path d=\"M18.56 5.44l.94 2.06.94-2.06 2.06-.94-2.06-.94-.94-2.06-.94 2.06-2.06.94zm-11 1L8.5 8.5l.94-2.06 2.06-.94-2.06-.94L8.5 2.5l-.94 2.06-2.06.94zm10 10l.94 2.06.94-2.06 2.06-.94-2.06-.94-.94-2.06-.94 2.06-2.06.94z\"/><path d=\"M17.41 7.96l-1.37-1.37c-.4-.4-.92-.59-1.43-.59-.52 0-1.04.2-1.43.59L10.3 9.45l-7.72 7.72c-.78.78-.78 2.05 0 2.83L4 21.41c.39.39.9.59 1.41.59.51 0 1.02-.2 1.41-.59l7.78-7.78 2.81-2.81c.8-.78.8-2.07 0-2.86zM5.41 20L4 18.59l7.72-7.72 1.47 1.35L5.41 20z\"/>\n",
              "  </svg>\n",
              "      </button>\n",
              "      \n",
              "  <style>\n",
              "    .colab-df-container {\n",
              "      display:flex;\n",
              "      flex-wrap:wrap;\n",
              "      gap: 12px;\n",
              "    }\n",
              "\n",
              "    .colab-df-convert {\n",
              "      background-color: #E8F0FE;\n",
              "      border: none;\n",
              "      border-radius: 50%;\n",
              "      cursor: pointer;\n",
              "      display: none;\n",
              "      fill: #1967D2;\n",
              "      height: 32px;\n",
              "      padding: 0 0 0 0;\n",
              "      width: 32px;\n",
              "    }\n",
              "\n",
              "    .colab-df-convert:hover {\n",
              "      background-color: #E2EBFA;\n",
              "      box-shadow: 0px 1px 2px rgba(60, 64, 67, 0.3), 0px 1px 3px 1px rgba(60, 64, 67, 0.15);\n",
              "      fill: #174EA6;\n",
              "    }\n",
              "\n",
              "    [theme=dark] .colab-df-convert {\n",
              "      background-color: #3B4455;\n",
              "      fill: #D2E3FC;\n",
              "    }\n",
              "\n",
              "    [theme=dark] .colab-df-convert:hover {\n",
              "      background-color: #434B5C;\n",
              "      box-shadow: 0px 1px 3px 1px rgba(0, 0, 0, 0.15);\n",
              "      filter: drop-shadow(0px 1px 2px rgba(0, 0, 0, 0.3));\n",
              "      fill: #FFFFFF;\n",
              "    }\n",
              "  </style>\n",
              "\n",
              "      <script>\n",
              "        const buttonEl =\n",
              "          document.querySelector('#df-0d5c4809-df13-4584-8da0-c954da12596f button.colab-df-convert');\n",
              "        buttonEl.style.display =\n",
              "          google.colab.kernel.accessAllowed ? 'block' : 'none';\n",
              "\n",
              "        async function convertToInteractive(key) {\n",
              "          const element = document.querySelector('#df-0d5c4809-df13-4584-8da0-c954da12596f');\n",
              "          const dataTable =\n",
              "            await google.colab.kernel.invokeFunction('convertToInteractive',\n",
              "                                                     [key], {});\n",
              "          if (!dataTable) return;\n",
              "\n",
              "          const docLinkHtml = 'Like what you see? Visit the ' +\n",
              "            '<a target=\"_blank\" href=https://colab.research.google.com/notebooks/data_table.ipynb>data table notebook</a>'\n",
              "            + ' to learn more about interactive tables.';\n",
              "          element.innerHTML = '';\n",
              "          dataTable['output_type'] = 'display_data';\n",
              "          await google.colab.output.renderOutput(dataTable, element);\n",
              "          const docLink = document.createElement('div');\n",
              "          docLink.innerHTML = docLinkHtml;\n",
              "          element.appendChild(docLink);\n",
              "        }\n",
              "      </script>\n",
              "    </div>\n",
              "  </div>\n",
              "  "
            ]
          },
          "metadata": {}
        },
        {
          "output_type": "display_data",
          "data": {
            "text/plain": [
              "                                                     tweet sentiment\n",
              "0  Music Experience: Atomic Kitten https://t.co/lWFlL4QLvk       NEU"
            ],
            "text/html": [
              "\n",
              "  <div id=\"df-a91f0a67-5a69-4e17-bcca-cbab618c33ea\">\n",
              "    <div class=\"colab-df-container\">\n",
              "      <div>\n",
              "<style scoped>\n",
              "    .dataframe tbody tr th:only-of-type {\n",
              "        vertical-align: middle;\n",
              "    }\n",
              "\n",
              "    .dataframe tbody tr th {\n",
              "        vertical-align: top;\n",
              "    }\n",
              "\n",
              "    .dataframe thead th {\n",
              "        text-align: right;\n",
              "    }\n",
              "</style>\n",
              "<table border=\"1\" class=\"dataframe\">\n",
              "  <thead>\n",
              "    <tr style=\"text-align: right;\">\n",
              "      <th></th>\n",
              "      <th>tweet</th>\n",
              "      <th>sentiment</th>\n",
              "    </tr>\n",
              "  </thead>\n",
              "  <tbody>\n",
              "    <tr>\n",
              "      <th>0</th>\n",
              "      <td>Music Experience: Atomic Kitten https://t.co/lWFlL4QLvk</td>\n",
              "      <td>NEU</td>\n",
              "    </tr>\n",
              "  </tbody>\n",
              "</table>\n",
              "</div>\n",
              "      <button class=\"colab-df-convert\" onclick=\"convertToInteractive('df-a91f0a67-5a69-4e17-bcca-cbab618c33ea')\"\n",
              "              title=\"Convert this dataframe to an interactive table.\"\n",
              "              style=\"display:none;\">\n",
              "        \n",
              "  <svg xmlns=\"http://www.w3.org/2000/svg\" height=\"24px\"viewBox=\"0 0 24 24\"\n",
              "       width=\"24px\">\n",
              "    <path d=\"M0 0h24v24H0V0z\" fill=\"none\"/>\n",
              "    <path d=\"M18.56 5.44l.94 2.06.94-2.06 2.06-.94-2.06-.94-.94-2.06-.94 2.06-2.06.94zm-11 1L8.5 8.5l.94-2.06 2.06-.94-2.06-.94L8.5 2.5l-.94 2.06-2.06.94zm10 10l.94 2.06.94-2.06 2.06-.94-2.06-.94-.94-2.06-.94 2.06-2.06.94z\"/><path d=\"M17.41 7.96l-1.37-1.37c-.4-.4-.92-.59-1.43-.59-.52 0-1.04.2-1.43.59L10.3 9.45l-7.72 7.72c-.78.78-.78 2.05 0 2.83L4 21.41c.39.39.9.59 1.41.59.51 0 1.02-.2 1.41-.59l7.78-7.78 2.81-2.81c.8-.78.8-2.07 0-2.86zM5.41 20L4 18.59l7.72-7.72 1.47 1.35L5.41 20z\"/>\n",
              "  </svg>\n",
              "      </button>\n",
              "      \n",
              "  <style>\n",
              "    .colab-df-container {\n",
              "      display:flex;\n",
              "      flex-wrap:wrap;\n",
              "      gap: 12px;\n",
              "    }\n",
              "\n",
              "    .colab-df-convert {\n",
              "      background-color: #E8F0FE;\n",
              "      border: none;\n",
              "      border-radius: 50%;\n",
              "      cursor: pointer;\n",
              "      display: none;\n",
              "      fill: #1967D2;\n",
              "      height: 32px;\n",
              "      padding: 0 0 0 0;\n",
              "      width: 32px;\n",
              "    }\n",
              "\n",
              "    .colab-df-convert:hover {\n",
              "      background-color: #E2EBFA;\n",
              "      box-shadow: 0px 1px 2px rgba(60, 64, 67, 0.3), 0px 1px 3px 1px rgba(60, 64, 67, 0.15);\n",
              "      fill: #174EA6;\n",
              "    }\n",
              "\n",
              "    [theme=dark] .colab-df-convert {\n",
              "      background-color: #3B4455;\n",
              "      fill: #D2E3FC;\n",
              "    }\n",
              "\n",
              "    [theme=dark] .colab-df-convert:hover {\n",
              "      background-color: #434B5C;\n",
              "      box-shadow: 0px 1px 3px 1px rgba(0, 0, 0, 0.15);\n",
              "      filter: drop-shadow(0px 1px 2px rgba(0, 0, 0, 0.3));\n",
              "      fill: #FFFFFF;\n",
              "    }\n",
              "  </style>\n",
              "\n",
              "      <script>\n",
              "        const buttonEl =\n",
              "          document.querySelector('#df-a91f0a67-5a69-4e17-bcca-cbab618c33ea button.colab-df-convert');\n",
              "        buttonEl.style.display =\n",
              "          google.colab.kernel.accessAllowed ? 'block' : 'none';\n",
              "\n",
              "        async function convertToInteractive(key) {\n",
              "          const element = document.querySelector('#df-a91f0a67-5a69-4e17-bcca-cbab618c33ea');\n",
              "          const dataTable =\n",
              "            await google.colab.kernel.invokeFunction('convertToInteractive',\n",
              "                                                     [key], {});\n",
              "          if (!dataTable) return;\n",
              "\n",
              "          const docLinkHtml = 'Like what you see? Visit the ' +\n",
              "            '<a target=\"_blank\" href=https://colab.research.google.com/notebooks/data_table.ipynb>data table notebook</a>'\n",
              "            + ' to learn more about interactive tables.';\n",
              "          element.innerHTML = '';\n",
              "          dataTable['output_type'] = 'display_data';\n",
              "          await google.colab.output.renderOutput(dataTable, element);\n",
              "          const docLink = document.createElement('div');\n",
              "          docLink.innerHTML = docLinkHtml;\n",
              "          element.appendChild(docLink);\n",
              "        }\n",
              "      </script>\n",
              "    </div>\n",
              "  </div>\n",
              "  "
            ]
          },
          "metadata": {}
        },
        {
          "output_type": "display_data",
          "data": {
            "text/plain": [
              "                                                                                                      tweet  \\\n",
              "15  ...I eat my fucking words, I've found a kitten right the fuck outside... CRYING https://t.co/ePVEjBYTkL   \n",
              "\n",
              "   sentiment  \n",
              "15       NEG  "
            ],
            "text/html": [
              "\n",
              "  <div id=\"df-c1b6920a-651f-4a31-a088-109e1c564e3c\">\n",
              "    <div class=\"colab-df-container\">\n",
              "      <div>\n",
              "<style scoped>\n",
              "    .dataframe tbody tr th:only-of-type {\n",
              "        vertical-align: middle;\n",
              "    }\n",
              "\n",
              "    .dataframe tbody tr th {\n",
              "        vertical-align: top;\n",
              "    }\n",
              "\n",
              "    .dataframe thead th {\n",
              "        text-align: right;\n",
              "    }\n",
              "</style>\n",
              "<table border=\"1\" class=\"dataframe\">\n",
              "  <thead>\n",
              "    <tr style=\"text-align: right;\">\n",
              "      <th></th>\n",
              "      <th>tweet</th>\n",
              "      <th>sentiment</th>\n",
              "    </tr>\n",
              "  </thead>\n",
              "  <tbody>\n",
              "    <tr>\n",
              "      <th>15</th>\n",
              "      <td>...I eat my fucking words, I've found a kitten right the fuck outside... CRYING https://t.co/ePVEjBYTkL</td>\n",
              "      <td>NEG</td>\n",
              "    </tr>\n",
              "  </tbody>\n",
              "</table>\n",
              "</div>\n",
              "      <button class=\"colab-df-convert\" onclick=\"convertToInteractive('df-c1b6920a-651f-4a31-a088-109e1c564e3c')\"\n",
              "              title=\"Convert this dataframe to an interactive table.\"\n",
              "              style=\"display:none;\">\n",
              "        \n",
              "  <svg xmlns=\"http://www.w3.org/2000/svg\" height=\"24px\"viewBox=\"0 0 24 24\"\n",
              "       width=\"24px\">\n",
              "    <path d=\"M0 0h24v24H0V0z\" fill=\"none\"/>\n",
              "    <path d=\"M18.56 5.44l.94 2.06.94-2.06 2.06-.94-2.06-.94-.94-2.06-.94 2.06-2.06.94zm-11 1L8.5 8.5l.94-2.06 2.06-.94-2.06-.94L8.5 2.5l-.94 2.06-2.06.94zm10 10l.94 2.06.94-2.06 2.06-.94-2.06-.94-.94-2.06-.94 2.06-2.06.94z\"/><path d=\"M17.41 7.96l-1.37-1.37c-.4-.4-.92-.59-1.43-.59-.52 0-1.04.2-1.43.59L10.3 9.45l-7.72 7.72c-.78.78-.78 2.05 0 2.83L4 21.41c.39.39.9.59 1.41.59.51 0 1.02-.2 1.41-.59l7.78-7.78 2.81-2.81c.8-.78.8-2.07 0-2.86zM5.41 20L4 18.59l7.72-7.72 1.47 1.35L5.41 20z\"/>\n",
              "  </svg>\n",
              "      </button>\n",
              "      \n",
              "  <style>\n",
              "    .colab-df-container {\n",
              "      display:flex;\n",
              "      flex-wrap:wrap;\n",
              "      gap: 12px;\n",
              "    }\n",
              "\n",
              "    .colab-df-convert {\n",
              "      background-color: #E8F0FE;\n",
              "      border: none;\n",
              "      border-radius: 50%;\n",
              "      cursor: pointer;\n",
              "      display: none;\n",
              "      fill: #1967D2;\n",
              "      height: 32px;\n",
              "      padding: 0 0 0 0;\n",
              "      width: 32px;\n",
              "    }\n",
              "\n",
              "    .colab-df-convert:hover {\n",
              "      background-color: #E2EBFA;\n",
              "      box-shadow: 0px 1px 2px rgba(60, 64, 67, 0.3), 0px 1px 3px 1px rgba(60, 64, 67, 0.15);\n",
              "      fill: #174EA6;\n",
              "    }\n",
              "\n",
              "    [theme=dark] .colab-df-convert {\n",
              "      background-color: #3B4455;\n",
              "      fill: #D2E3FC;\n",
              "    }\n",
              "\n",
              "    [theme=dark] .colab-df-convert:hover {\n",
              "      background-color: #434B5C;\n",
              "      box-shadow: 0px 1px 3px 1px rgba(0, 0, 0, 0.15);\n",
              "      filter: drop-shadow(0px 1px 2px rgba(0, 0, 0, 0.3));\n",
              "      fill: #FFFFFF;\n",
              "    }\n",
              "  </style>\n",
              "\n",
              "      <script>\n",
              "        const buttonEl =\n",
              "          document.querySelector('#df-c1b6920a-651f-4a31-a088-109e1c564e3c button.colab-df-convert');\n",
              "        buttonEl.style.display =\n",
              "          google.colab.kernel.accessAllowed ? 'block' : 'none';\n",
              "\n",
              "        async function convertToInteractive(key) {\n",
              "          const element = document.querySelector('#df-c1b6920a-651f-4a31-a088-109e1c564e3c');\n",
              "          const dataTable =\n",
              "            await google.colab.kernel.invokeFunction('convertToInteractive',\n",
              "                                                     [key], {});\n",
              "          if (!dataTable) return;\n",
              "\n",
              "          const docLinkHtml = 'Like what you see? Visit the ' +\n",
              "            '<a target=\"_blank\" href=https://colab.research.google.com/notebooks/data_table.ipynb>data table notebook</a>'\n",
              "            + ' to learn more about interactive tables.';\n",
              "          element.innerHTML = '';\n",
              "          dataTable['output_type'] = 'display_data';\n",
              "          await google.colab.output.renderOutput(dataTable, element);\n",
              "          const docLink = document.createElement('div');\n",
              "          docLink.innerHTML = docLinkHtml;\n",
              "          element.appendChild(docLink);\n",
              "        }\n",
              "      </script>\n",
              "    </div>\n",
              "  </div>\n",
              "  "
            ]
          },
          "metadata": {}
        }
      ]
    },
    {
      "cell_type": "code",
      "source": [
        "import matplotlib.pyplot as plt\n",
        "\n",
        "sentiment_counts = df.groupby(['sentiment']).size()\n",
        "print(sentiment_counts)\n",
        "\n",
        "fig = plt.figure(figsize=(6,6), dpi=100)\n",
        "sentiment_counts.plot.pie(autopct='%1.1f%%', startangle=270, fontsize=12, label='')"
      ],
      "metadata": {
        "colab": {
          "base_uri": "https://localhost:8080/",
          "height": 593
        },
        "id": "mELwsF11r2qV",
        "outputId": "b0db7849-91df-4434-fd83-325f8050adcf"
      },
      "execution_count": 29,
      "outputs": [
        {
          "output_type": "stream",
          "name": "stdout",
          "text": [
            "sentiment\n",
            "NEG    10\n",
            "NEU    72\n",
            "POS    15\n",
            "dtype: int64\n"
          ]
        },
        {
          "output_type": "execute_result",
          "data": {
            "text/plain": [
              "<matplotlib.axes._subplots.AxesSubplot at 0x7f7fcc6ff710>"
            ]
          },
          "metadata": {},
          "execution_count": 29
        },
        {
          "output_type": "display_data",
          "data": {
            "text/plain": [
              "<Figure size 600x600 with 1 Axes>"
            ],
            "image/png": "[encoded data removed]"
          },
          "metadata": {}
        }
      ]
    },
    {
      "cell_type": "markdown",
      "source": [
        "# Generate a Word Cloud\n",
        "Checkout the [WordCloud docs](https://amueller.github.io/word_cloud/index.html) for more info."
      ],
      "metadata": {
        "id": "upvsDcNCsDKc"
      }
    },
    {
      "cell_type": "code",
      "source": [
        "from wordcloud import WordCloud\n",
        "from wordcloud import STOPWORDS\n",
        "\n",
        "positive_tweets = df['tweet'][df['sentiment'] == 'POS']\n",
        "stop_words = ['https', 'co', 'RT'] + list(STOPWORDS)\n",
        "positive_wordcloud = WordCloud(max_font_size=50, max_words=100, background_color='pink', stopwords=stop_words).generate(str(positive_tweets))\n",
        "plt.figure()\n",
        "plt.title(\"Positive Tweets\")\n",
        "plt.imshow(positive_wordcloud, interpolation='bilinear')\n",
        "plt.axis('off')\n",
        "plt.show()"
      ],
      "metadata": {
        "colab": {
          "base_uri": "https://localhost:8080/",
          "height": 214
        },
        "id": "S8_-lV03tSir",
        "outputId": "d0f39516-7e1c-4533-b08d-02762e21b297"
      },
      "execution_count": 31,
      "outputs": [
        {
          "output_type": "display_data",
          "data": {
            "text/plain": [
              "<Figure size 432x288 with 1 Axes>"
            ],
            "image/png": "[encoded data removed]"
          },
          "metadata": {
            "needs_background": "light"
          }
        }
      ]
    }
  ]
}